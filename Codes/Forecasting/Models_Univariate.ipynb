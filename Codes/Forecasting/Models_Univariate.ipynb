{
  "nbformat": 4,
  "nbformat_minor": 0,
  "metadata": {
    "colab": {
      "provenance": [],
      "toc_visible": true
    },
    "kernelspec": {
      "name": "python3",
      "display_name": "Python 3"
    },
    "language_info": {
      "name": "python"
    }
  },
  "cells": [
    {
      "cell_type": "code",
      "execution_count": null,
      "metadata": {
        "id": "iPXWBnJn_2N6"
      },
      "outputs": [],
      "source": [
        "!pip install darts\n",
        "!pip install dask[dataframe]"
      ]
    },
    {
      "cell_type": "code",
      "source": [
        "!pip uninstall numpy\n",
        "!pip install numpy\n",
        "!pip install --force-reinstall darts"
      ],
      "metadata": {
        "id": "9naNXQQxkVV2"
      },
      "execution_count": null,
      "outputs": []
    },
    {
      "cell_type": "code",
      "source": [
        "import pandas as pd\n",
        "import numpy as np\n",
        "import darts\n",
        "from darts import TimeSeries\n",
        "import os\n",
        "from scipy.special import comb\n",
        "import matplotlib.pyplot as plt\n",
        "import darts.models.forecasting\n",
        "import time"
      ],
      "metadata": {
        "id": "2pf3qsJG__oE"
      },
      "execution_count": null,
      "outputs": []
    },
    {
      "cell_type": "code",
      "execution_count": null,
      "metadata": {
        "id": "-XjN3DmdSTQh",
        "colab": {
          "base_uri": "https://localhost:8080/"
        },
        "outputId": "42851fe3-9a1e-4738-9d99-0ba3c1dabe7f"
      },
      "outputs": [
        {
          "output_type": "stream",
          "name": "stdout",
          "text": [
            "Mounted at /content/drive\n"
          ]
        }
      ],
      "source": [
        "from google.colab import drive\n",
        "drive.mount('/content/drive')"
      ]
    },
    {
      "cell_type": "code",
      "source": [
        "import pandas as pd\n",
        "df = pd.read_csv('/content/weekly_summary_1991-2021.csv')\n",
        "print(df.head())"
      ],
      "metadata": {
        "id": "7WZFY6IgSTQh"
      },
      "execution_count": null,
      "outputs": []
    },
    {
      "cell_type": "code",
      "source": [
        "# Creating train-test split\n",
        "col_index = 1\n",
        "lags = 2\n",
        "colnames_dat = df.columns\n",
        "dat = np.array(df[colnames_dat[col_index]]).reshape(-1, 1)\n",
        "# split_point = int(5/6 * len(dat))\n",
        "# # Split into train, validation, and test sets\n",
        "# tr_dat, ts_dat = dat[:split_point], dat[split_point:]\n",
        "# fore_hor = len(ts_dat)\n",
        "hor = 53\n",
        "split_point = len(dat) - hor\n",
        "# Split into train, validation, and test sets\n",
        "tr_dat, ts_dat = dat[:split_point], dat[split_point:]\n",
        "fore_hor = len(ts_dat)"
      ],
      "metadata": {
        "id": "pIwJcF_XASyh"
      },
      "execution_count": null,
      "outputs": []
    },
    {
      "cell_type": "code",
      "source": [
        "# Convert to Darts TimeSeries format\n",
        "train_series = TimeSeries.from_values(tr_dat)\n",
        "test_series = TimeSeries.from_values(ts_dat)"
      ],
      "metadata": {
        "id": "1cT53hvnA5iD"
      },
      "execution_count": null,
      "outputs": []
    },
    {
      "cell_type": "code",
      "source": [
        "# Create a folder by Equation name\n",
        "folder_name = 'One_Step_Ahead_' + str(lags)\n",
        "if not os.path.exists(folder_name):\n",
        "    os.makedirs(folder_name)\n",
        "    print(f\"Folder '{folder_name}' created successfully.\")\n",
        "else:\n",
        "    print(f\"Folder '{folder_name}' already exists.\")"
      ],
      "metadata": {
        "colab": {
          "base_uri": "https://localhost:8080/"
        },
        "id": "BQ3EGSZmBCZp",
        "outputId": "0c66d6fa-356c-493c-b3c1-a57a9abc80f4"
      },
      "execution_count": null,
      "outputs": [
        {
          "output_type": "stream",
          "name": "stdout",
          "text": [
            "Folder 'One_Step_Ahead_2' created successfully.\n"
          ]
        }
      ]
    },
    {
      "cell_type": "code",
      "source": [
        "from darts.metrics import metrics\n",
        "smape_metric = {}\n",
        "mase_metric = {}\n",
        "mae_metric = {}\n",
        "rmse_metric = {}\n",
        "marre_metric = {}\n",
        "model_train_pred_time = {}"
      ],
      "metadata": {
        "id": "OyRdgjDoz_T6"
      },
      "execution_count": null,
      "outputs": []
    },
    {
      "cell_type": "markdown",
      "source": [
        "## NBeats"
      ],
      "metadata": {
        "id": "LiFDE9BKMOzV"
      }
    },
    {
      "cell_type": "code",
      "source": [
        "# Define the N-BEATS Model\n",
        "model_name = 'NBEATSModel'\n",
        "model = darts.models.forecasting.nbeats.NBEATSModel(input_chunk_length=lags, output_chunk_length=1, random_state=42)\n",
        "start_time = time.time()\n",
        "# Fit the model\n",
        "model.fit(train_series)\n",
        "# Perform recursive forecasting for fore_hor steps\n",
        "forecast = []\n",
        "current_input = train_series[-lags:]  # Start with the last lags points\n",
        "for i in range(fore_hor):\n",
        "  pred = model.predict(n=1, series=current_input)\n",
        "  forecast.append(pred.values()[0, 0])\n",
        "  current_input = TimeSeries.from_values(np.vstack((current_input.values()[1:], ts_dat[i])))\n",
        "end_time = time.time()\n",
        "execution_time = end_time - start_time\n",
        "model_train_pred_time[model_name] = execution_time\n",
        "smape_metric[model_name] = metrics.smape(test_series, TimeSeries.from_values(np.array(forecast)))\n",
        "#mase_metric[model_name] = metrics.mase(test_series, TimeSeries.from_values(np.array(forecast)))\n",
        "mae_metric[model_name] = metrics.mae(test_series, TimeSeries.from_values(np.array(forecast)))\n",
        "rmse_metric[model_name] = metrics.rmse(test_series, TimeSeries.from_values(np.array(forecast)))\n",
        "marre_metric[model_name] = metrics.marre(test_series, TimeSeries.from_values(np.array(forecast)))\n"
      ],
      "metadata": {
        "id": "ge8twbyOAt8X"
      },
      "execution_count": null,
      "outputs": []
    },
    {
      "cell_type": "code",
      "source": [
        "forecast_df = pd.DataFrame({model_name: forecast})\n",
        "file_name = model_name + '.xlsx'\n",
        "forecast_file_path = os.path.join(folder_name, file_name)\n",
        "forecast_df.to_excel(forecast_file_path, index=False)\n",
        "print(f\"Forecast saved to {forecast_file_path}\")"
      ],
      "metadata": {
        "id": "cGdHvwfCKsFK"
      },
      "execution_count": null,
      "outputs": []
    },
    {
      "cell_type": "markdown",
      "source": [
        "## LSTM"
      ],
      "metadata": {
        "id": "B2jZldnsM6hb"
      }
    },
    {
      "cell_type": "code",
      "source": [
        "# Define the LSTM Model\n",
        "model_name = 'LSTM'\n",
        "model = darts.models.forecasting.rnn_model.RNNModel(input_chunk_length = lags,\n",
        "                                                    model='LSTM', random_state=42, training_length= lags+1)\n",
        "# Fit the model\n",
        "start_time = time.time()\n",
        "model.fit(train_series)\n",
        "# Perform recursive forecasting for fore_hor steps\n",
        "forecast = []\n",
        "current_input = train_series[-lags:]  # Start with the last lags points\n",
        "for i in range(fore_hor):\n",
        "  pred = model.predict(n=1, series=current_input)\n",
        "  forecast.append(pred.values()[0, 0])\n",
        "  current_input = TimeSeries.from_values(np.vstack((current_input.values()[1:], ts_dat[i])))\n",
        "\n",
        "end_time = time.time()\n",
        "execution_time = end_time - start_time\n",
        "model_train_pred_time[model_name] = execution_time\n",
        "smape_metric[model_name] = metrics.smape(test_series, TimeSeries.from_values(np.array(forecast)))\n",
        "# mase_metric[model_name] = metrics.mase(test_series, TimeSeries.from_values(np.array(forecast)))\n",
        "mae_metric[model_name] = metrics.mae(test_series, TimeSeries.from_values(np.array(forecast)))\n",
        "rmse_metric[model_name] = metrics.rmse(test_series, TimeSeries.from_values(np.array(forecast)))\n",
        "marre_metric[model_name] = metrics.marre(test_series, TimeSeries.from_values(np.array(forecast)))"
      ],
      "metadata": {
        "id": "QNh-sG6mM6hb"
      },
      "execution_count": null,
      "outputs": []
    },
    {
      "cell_type": "code",
      "source": [
        "forecast_df = pd.DataFrame({model_name: forecast})\n",
        "file_name = model_name + '.xlsx'\n",
        "forecast_file_path = os.path.join(folder_name, file_name)\n",
        "forecast_df.to_excel(forecast_file_path, index=False)\n",
        "print(f\"Forecast saved to {forecast_file_path}\")"
      ],
      "metadata": {
        "id": "Qp1222ZrM6hb"
      },
      "execution_count": null,
      "outputs": []
    },
    {
      "cell_type": "markdown",
      "source": [
        "## NHits"
      ],
      "metadata": {
        "id": "EALfijdnOJja"
      }
    },
    {
      "cell_type": "code",
      "source": [
        "# Define the NHiTSModel Model\n",
        "model_name = 'NHiTSModel'\n",
        "model = darts.models.forecasting.nhits.NHiTSModel(input_chunk_length = lags, output_chunk_length = 1, random_state=42)\n",
        "# Fit the model\n",
        "start_time = time.time()\n",
        "model.fit(train_series)\n",
        "# Perform recursive forecasting for fore_hor steps\n",
        "forecast = []\n",
        "current_input = train_series[-lags:]  # Start with the last lags points\n",
        "for i in range(fore_hor):\n",
        "  pred = model.predict(n=1, series=current_input)\n",
        "  forecast.append(pred.values()[0, 0])\n",
        "  current_input = TimeSeries.from_values(np.vstack((current_input.values()[1:], ts_dat[i])))\n",
        "\n",
        "end_time = time.time()\n",
        "execution_time = end_time - start_time\n",
        "model_train_pred_time[model_name] = execution_time\n",
        "smape_metric[model_name] = metrics.smape(test_series, TimeSeries.from_values(np.array(forecast)))\n",
        "# mase_metric[model_name] = metrics.mase(test_series, TimeSeries.from_values(np.array(forecast)))\n",
        "mae_metric[model_name] = metrics.mae(test_series, TimeSeries.from_values(np.array(forecast)))\n",
        "rmse_metric[model_name] = metrics.rmse(test_series, TimeSeries.from_values(np.array(forecast)))\n",
        "marre_metric[model_name] = metrics.marre(test_series, TimeSeries.from_values(np.array(forecast)))"
      ],
      "metadata": {
        "id": "jC5DahpSOJjb"
      },
      "execution_count": null,
      "outputs": []
    },
    {
      "cell_type": "code",
      "source": [
        "forecast_df = pd.DataFrame({model_name: forecast})\n",
        "file_name = model_name + '.xlsx'\n",
        "forecast_file_path = os.path.join(folder_name, file_name)\n",
        "forecast_df.to_excel(forecast_file_path, index=False)\n",
        "print(f\"Forecast saved to {forecast_file_path}\")"
      ],
      "metadata": {
        "id": "3r-5nezQOJjc"
      },
      "execution_count": null,
      "outputs": []
    },
    {
      "cell_type": "markdown",
      "source": [
        "## TransformerModel"
      ],
      "metadata": {
        "id": "C9KsuzDyO0Mo"
      }
    },
    {
      "cell_type": "code",
      "source": [
        "# Define the TransformerModel Model\n",
        "model_name = 'TransformerModel'\n",
        "model = darts.models.forecasting.transformer_model.TransformerModel(input_chunk_length = lags, output_chunk_length = 1, random_state=42)\n",
        "# Fit the model\n",
        "start_time = time.time()\n",
        "model.fit(train_series)\n",
        "# Perform recursive forecasting for fore_hor steps\n",
        "forecast = []\n",
        "current_input = train_series[-lags:]  # Start with the last lags points\n",
        "for i in range(fore_hor):\n",
        "  pred = model.predict(n=1, series=current_input)\n",
        "  forecast.append(pred.values()[0, 0])\n",
        "  current_input = TimeSeries.from_values(np.vstack((current_input.values()[1:], ts_dat[i])))\n",
        "\n",
        "end_time = time.time()\n",
        "execution_time = end_time - start_time\n",
        "model_train_pred_time[model_name] = execution_time\n",
        "smape_metric[model_name] = metrics.smape(test_series, TimeSeries.from_values(np.array(forecast)))\n",
        "# mase_metric[model_name] = metrics.mase(test_series, TimeSeries.from_values(np.array(forecast)))\n",
        "mae_metric[model_name] = metrics.mae(test_series, TimeSeries.from_values(np.array(forecast)))\n",
        "rmse_metric[model_name] = metrics.rmse(test_series, TimeSeries.from_values(np.array(forecast)))\n",
        "marre_metric[model_name] = metrics.marre(test_series, TimeSeries.from_values(np.array(forecast)))"
      ],
      "metadata": {
        "id": "UWvsdP6mO0Mo"
      },
      "execution_count": null,
      "outputs": []
    },
    {
      "cell_type": "code",
      "source": [
        "forecast_df = pd.DataFrame({model_name: forecast})\n",
        "file_name = model_name + '.xlsx'\n",
        "forecast_file_path = os.path.join(folder_name, file_name)\n",
        "forecast_df.to_excel(forecast_file_path, index=False)\n",
        "print(f\"Forecast saved to {forecast_file_path}\")"
      ],
      "metadata": {
        "colab": {
          "base_uri": "https://localhost:8080/"
        },
        "outputId": "ce9afd96-0738-4296-8a06-80c3be6c3af1",
        "id": "L8EJSHoAO0Mp"
      },
      "execution_count": null,
      "outputs": [
        {
          "output_type": "stream",
          "name": "stdout",
          "text": [
            "Forecast saved to One_Step_Ahead_2/TransformerModel.xlsx\n"
          ]
        }
      ]
    },
    {
      "cell_type": "code",
      "source": [],
      "metadata": {
        "id": "pBMmPc7QPLp3"
      },
      "execution_count": null,
      "outputs": []
    },
    {
      "cell_type": "markdown",
      "source": [
        "## DLinearModel"
      ],
      "metadata": {
        "id": "WkhMV1KsPLub"
      }
    },
    {
      "cell_type": "code",
      "source": [
        "# Define the DLinearModel Model\n",
        "model_name = 'DLinearModel'\n",
        "model = darts.models.forecasting.dlinear.DLinearModel(input_chunk_length = lags, output_chunk_length = 1, random_state=42)\n",
        "# Fit the model\n",
        "start_time = time.time()\n",
        "model.fit(train_series)\n",
        "# Perform recursive forecasting for fore_hor steps\n",
        "forecast = []\n",
        "current_input = train_series[-lags:]  # Start with the last lags points\n",
        "for i in range(fore_hor):\n",
        "  pred = model.predict(n=1, series=current_input)\n",
        "  forecast.append(pred.values()[0, 0])\n",
        "  current_input = TimeSeries.from_values(np.vstack((current_input.values()[1:], ts_dat[i])))\n",
        "\n",
        "end_time = time.time()\n",
        "execution_time = end_time - start_time\n",
        "model_train_pred_time[model_name] = execution_time\n",
        "smape_metric[model_name] = metrics.smape(test_series, TimeSeries.from_values(np.array(forecast)))\n",
        "# mase_metric[model_name] = metrics.mase(test_series, TimeSeries.from_values(np.array(forecast)))\n",
        "mae_metric[model_name] = metrics.mae(test_series, TimeSeries.from_values(np.array(forecast)))\n",
        "rmse_metric[model_name] = metrics.rmse(test_series, TimeSeries.from_values(np.array(forecast)))\n",
        "marre_metric[model_name] = metrics.marre(test_series, TimeSeries.from_values(np.array(forecast)))"
      ],
      "metadata": {
        "id": "1kcDhG0WPLuc"
      },
      "execution_count": null,
      "outputs": []
    },
    {
      "cell_type": "code",
      "source": [
        "forecast_df = pd.DataFrame({model_name: forecast})\n",
        "file_name = model_name + '.xlsx'\n",
        "forecast_file_path = os.path.join(folder_name, file_name)\n",
        "forecast_df.to_excel(forecast_file_path, index=False)\n",
        "print(f\"Forecast saved to {forecast_file_path}\")"
      ],
      "metadata": {
        "colab": {
          "base_uri": "https://localhost:8080/"
        },
        "id": "GzOUSl7CPLuc",
        "outputId": "e00842e2-81ca-4378-a16e-6af5164e13c8"
      },
      "execution_count": null,
      "outputs": [
        {
          "output_type": "stream",
          "name": "stdout",
          "text": [
            "Forecast saved to One_Step_Ahead_2/DLinearModel.xlsx\n"
          ]
        }
      ]
    },
    {
      "cell_type": "markdown",
      "source": [
        "## NLinearModel"
      ],
      "metadata": {
        "id": "o10-sAvHPL1k"
      }
    },
    {
      "cell_type": "code",
      "source": [
        "# Define the NLinearModel Model\n",
        "model_name = 'NLinearModel'\n",
        "model = darts.models.forecasting.nlinear.NLinearModel(input_chunk_length = lags, output_chunk_length = 1, random_state=42)\n",
        "# Fit the model\n",
        "start_time = time.time()\n",
        "model.fit(train_series)\n",
        "# Perform recursive forecasting for fore_hor steps\n",
        "forecast = []\n",
        "current_input = train_series[-lags:]  # Start with the last lags points\n",
        "for i in range(fore_hor):\n",
        "  pred = model.predict(n=1, series=current_input)\n",
        "  forecast.append(pred.values()[0, 0])\n",
        "  current_input = TimeSeries.from_values(np.vstack((current_input.values()[1:], ts_dat[i])))\n",
        "\n",
        "end_time = time.time()\n",
        "execution_time = end_time - start_time\n",
        "model_train_pred_time[model_name] = execution_time\n",
        "smape_metric[model_name] = metrics.smape(test_series, TimeSeries.from_values(np.array(forecast)))\n",
        "# mase_metric[model_name] = metrics.mase(test_series, TimeSeries.from_values(np.array(forecast)))\n",
        "mae_metric[model_name] = metrics.mae(test_series, TimeSeries.from_values(np.array(forecast)))\n",
        "rmse_metric[model_name] = metrics.rmse(test_series, TimeSeries.from_values(np.array(forecast)))\n",
        "marre_metric[model_name] = metrics.marre(test_series, TimeSeries.from_values(np.array(forecast)))"
      ],
      "metadata": {
        "id": "HAmWyC-3PL1k"
      },
      "execution_count": null,
      "outputs": []
    },
    {
      "cell_type": "code",
      "source": [
        "forecast_df = pd.DataFrame({model_name: forecast})\n",
        "file_name = model_name + '.xlsx'\n",
        "forecast_file_path = os.path.join(folder_name, file_name)\n",
        "forecast_df.to_excel(forecast_file_path, index=False)\n",
        "print(f\"Forecast saved to {forecast_file_path}\")"
      ],
      "metadata": {
        "id": "XHHKWb0uPL1k",
        "colab": {
          "base_uri": "https://localhost:8080/"
        },
        "outputId": "ff803ac5-7719-4d49-d7f5-85cc82747b16"
      },
      "execution_count": null,
      "outputs": [
        {
          "output_type": "stream",
          "name": "stdout",
          "text": [
            "Forecast saved to One_Step_Ahead_2/NLinearModel.xlsx\n"
          ]
        }
      ]
    },
    {
      "cell_type": "markdown",
      "source": [
        "## TiDEModel"
      ],
      "metadata": {
        "id": "d-r95jdFPL7Y"
      }
    },
    {
      "cell_type": "code",
      "source": [
        "# Define the TiDEModel Model\n",
        "model_name = 'TiDEModel'\n",
        "model = darts.models.forecasting.tide_model.TiDEModel(input_chunk_length = lags, output_chunk_length = 1, random_state=42)\n",
        "# Fit the model\n",
        "start_time = time.time()\n",
        "model.fit(train_series)\n",
        "# Perform recursive forecasting for fore_hor steps\n",
        "forecast = []\n",
        "current_input = train_series[-lags:]  # Start with the last lags points\n",
        "for i in range(fore_hor):\n",
        "  pred = model.predict(n=1, series=current_input)\n",
        "  forecast.append(pred.values()[0, 0])\n",
        "  current_input = TimeSeries.from_values(np.vstack((current_input.values()[1:], ts_dat[i])))\n",
        "\n",
        "end_time = time.time()\n",
        "execution_time = end_time - start_time\n",
        "model_train_pred_time[model_name] = execution_time\n",
        "smape_metric[model_name] = metrics.smape(test_series, TimeSeries.from_values(np.array(forecast)))\n",
        "# mase_metric[model_name] = metrics.mase(test_series, TimeSeries.from_values(np.array(forecast)))\n",
        "mae_metric[model_name] = metrics.mae(test_series, TimeSeries.from_values(np.array(forecast)))\n",
        "rmse_metric[model_name] = metrics.rmse(test_series, TimeSeries.from_values(np.array(forecast)))\n",
        "marre_metric[model_name] = metrics.marre(test_series, TimeSeries.from_values(np.array(forecast)))"
      ],
      "metadata": {
        "id": "ZLNulHYyPL7Y"
      },
      "execution_count": null,
      "outputs": []
    },
    {
      "cell_type": "code",
      "source": [
        "forecast_df = pd.DataFrame({model_name: forecast})\n",
        "file_name = model_name + '.xlsx'\n",
        "forecast_file_path = os.path.join(folder_name, file_name)\n",
        "forecast_df.to_excel(forecast_file_path, index=False)\n",
        "print(f\"Forecast saved to {forecast_file_path}\")"
      ],
      "metadata": {
        "colab": {
          "base_uri": "https://localhost:8080/"
        },
        "id": "oYQPsaWUPL7Z",
        "outputId": "1a76c3fd-cbeb-4620-ca4a-65953a845afc"
      },
      "execution_count": null,
      "outputs": [
        {
          "output_type": "stream",
          "name": "stdout",
          "text": [
            "Forecast saved to One_Step_Ahead_2/TiDEModel.xlsx\n"
          ]
        }
      ]
    },
    {
      "cell_type": "markdown",
      "source": [
        "## XGBModel"
      ],
      "metadata": {
        "id": "uxmpEA8CPL-0"
      }
    },
    {
      "cell_type": "code",
      "source": [
        "# Define the XGBModel Model\n",
        "model_name = 'XGBModel'\n",
        "model = darts.models.forecasting.xgboost.XGBModel(lags = lags, output_chunk_length = 1, random_state=42)\n",
        "# Fit the model\n",
        "start_time = time.time()\n",
        "model.fit(train_series)\n",
        "# Perform recursive forecasting for fore_hor steps\n",
        "forecast = []\n",
        "current_input = train_series[-lags:]  # Start with the last lags points\n",
        "for i in range(fore_hor):\n",
        "  pred = model.predict(n=1, series=current_input)\n",
        "  forecast.append(pred.values()[0, 0])\n",
        "  current_input = TimeSeries.from_values(np.vstack((current_input.values()[1:], ts_dat[i])))\n",
        "\n",
        "end_time = time.time()\n",
        "execution_time = end_time - start_time\n",
        "model_train_pred_time[model_name] = execution_time\n",
        "smape_metric[model_name] = metrics.smape(test_series, TimeSeries.from_values(np.array(forecast)))\n",
        "# mase_metric[model_name] = metrics.mase(test_series, TimeSeries.from_values(np.array(forecast)))\n",
        "mae_metric[model_name] = metrics.mae(test_series, TimeSeries.from_values(np.array(forecast)))\n",
        "rmse_metric[model_name] = metrics.rmse(test_series, TimeSeries.from_values(np.array(forecast)))\n",
        "marre_metric[model_name] = metrics.marre(test_series, TimeSeries.from_values(np.array(forecast)))"
      ],
      "metadata": {
        "id": "G4TH_5eKPL-1"
      },
      "execution_count": null,
      "outputs": []
    },
    {
      "cell_type": "code",
      "source": [
        "forecast_df = pd.DataFrame({model_name: forecast})\n",
        "file_name = model_name + '.xlsx'\n",
        "forecast_file_path = os.path.join(folder_name, file_name)\n",
        "forecast_df.to_excel(forecast_file_path, index=False)\n",
        "print(f\"Forecast saved to {forecast_file_path}\")"
      ],
      "metadata": {
        "id": "jR3BfAtsPL-1"
      },
      "execution_count": null,
      "outputs": []
    },
    {
      "cell_type": "markdown",
      "source": [
        "## RandomForest"
      ],
      "metadata": {
        "id": "-NN2BpYcQtng"
      }
    },
    {
      "cell_type": "code",
      "source": [
        "# Define the RandomForest Model\n",
        "model_name = 'RandomForest'\n",
        "model = darts.models.forecasting.random_forest.RandomForest(lags = lags, output_chunk_length = 1, random_state=42)\n",
        "# Fit the model\n",
        "start_time = time.time()\n",
        "model.fit(train_series)\n",
        "# Perform recursive forecasting for fore_hor steps\n",
        "forecast = []\n",
        "current_input = train_series[-lags:]  # Start with the last lags points\n",
        "for i in range(fore_hor):\n",
        "  pred = model.predict(n=1, series=current_input)\n",
        "  forecast.append(pred.values()[0, 0])\n",
        "  current_input = TimeSeries.from_values(np.vstack((current_input.values()[1:], ts_dat[i])))\n",
        "\n",
        "end_time = time.time()\n",
        "execution_time = end_time - start_time\n",
        "model_train_pred_time[model_name] = execution_time\n",
        "smape_metric[model_name] = metrics.smape(test_series, TimeSeries.from_values(np.array(forecast)))\n",
        "# mase_metric[model_name] = metrics.mase(test_series, TimeSeries.from_values(np.array(forecast)))\n",
        "mae_metric[model_name] = metrics.mae(test_series, TimeSeries.from_values(np.array(forecast)))\n",
        "rmse_metric[model_name] = metrics.rmse(test_series, TimeSeries.from_values(np.array(forecast)))\n",
        "marre_metric[model_name] = metrics.marre(test_series, TimeSeries.from_values(np.array(forecast)))"
      ],
      "metadata": {
        "id": "2L7PJu5nQtng"
      },
      "execution_count": null,
      "outputs": []
    },
    {
      "cell_type": "code",
      "source": [
        "forecast_df = pd.DataFrame({model_name: forecast})\n",
        "file_name = model_name + '.xlsx'\n",
        "forecast_file_path = os.path.join(folder_name, file_name)\n",
        "forecast_df.to_excel(forecast_file_path, index=False)\n",
        "print(f\"Forecast saved to {forecast_file_path}\")"
      ],
      "metadata": {
        "colab": {
          "base_uri": "https://localhost:8080/"
        },
        "outputId": "6dc92fc7-3dbc-47d1-a812-ce14f6c8a2c3",
        "id": "uih9UtaAQtnh"
      },
      "execution_count": null,
      "outputs": [
        {
          "output_type": "stream",
          "name": "stdout",
          "text": [
            "Forecast saved to One_Step_Ahead_2/RandomForest.xlsx\n"
          ]
        }
      ]
    },
    {
      "cell_type": "code",
      "source": [
        "smape_metrics_df = pd.DataFrame.from_dict(smape_metric, orient='index', columns=['SMAPE'])\n",
        "rmse_metrics_df = pd.DataFrame.from_dict(rmse_metric, orient='index', columns=['RMSE'])\n",
        "mae_metrics_df = pd.DataFrame.from_dict(mae_metric, orient='index', columns=['MAE'])\n",
        "marre_metrics_df = pd.DataFrame.from_dict(marre_metric, orient='index', columns=['MARRE'])\n",
        "execution_time_df = pd.DataFrame.from_dict(model_train_pred_time, orient='index', columns=['Time'])"
      ],
      "metadata": {
        "id": "Pj_IpMOWp1RF"
      },
      "execution_count": null,
      "outputs": []
    },
    {
      "cell_type": "code",
      "source": [
        "merged_df = pd.concat([smape_metrics_df, rmse_metrics_df, mae_metrics_df, marre_metrics_df, execution_time_df], axis=1)\n",
        "merged_df"
      ],
      "metadata": {
        "id": "TbJXwsTRwkxf"
      },
      "execution_count": null,
      "outputs": []
    },
    {
      "cell_type": "code",
      "source": [],
      "metadata": {
        "id": "dgmrkONywo3U"
      },
      "execution_count": null,
      "outputs": []
    }
  ]
}