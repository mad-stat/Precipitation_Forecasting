{
  "nbformat": 4,
  "nbformat_minor": 0,
  "metadata": {
    "colab": {
      "provenance": [],
      "toc_visible": true
    },
    "kernelspec": {
      "name": "python3",
      "display_name": "Python 3"
    },
    "language_info": {
      "name": "python"
    }
  },
  "cells": [
    {
      "cell_type": "markdown",
      "source": [
        "# Darts"
      ],
      "metadata": {
        "id": "BiuLeRBKAPOa"
      }
    },
    {
      "cell_type": "code",
      "execution_count": null,
      "metadata": {
        "id": "iPXWBnJn_2N6"
      },
      "outputs": [],
      "source": [
        "!pip install darts\n",
        "!pip install dask[dataframe]"
      ]
    },
    {
      "cell_type": "code",
      "source": [
        "!pip uninstall numpy\n",
        "!pip install numpy\n",
        "!pip install --force-reinstall darts"
      ],
      "metadata": {
        "id": "jPzPGd4mcdcZ"
      },
      "execution_count": null,
      "outputs": []
    },
    {
      "cell_type": "code",
      "source": [
        "import pandas as pd\n",
        "import numpy as np\n",
        "import darts\n",
        "from darts import TimeSeries\n",
        "import os\n",
        "from scipy.special import comb\n",
        "import matplotlib.pyplot as plt\n",
        "import darts.models.forecasting\n",
        "import time"
      ],
      "metadata": {
        "id": "2pf3qsJG__oE"
      },
      "execution_count": null,
      "outputs": []
    },
    {
      "cell_type": "code",
      "source": [
        "# os.chdir('/content/drive/MyDrive/Research/Bear_Island/Darts_one_step')"
      ],
      "metadata": {
        "id": "O6MJ6v_OSjxq"
      },
      "execution_count": null,
      "outputs": []
    },
    {
      "cell_type": "code",
      "source": [
        "import pandas as pd\n",
        "df = pd.read_csv('/content/weekly_summary_1991-2021.csv')\n",
        "print(df.head())"
      ],
      "metadata": {
        "id": "7WZFY6IgSTQh"
      },
      "execution_count": null,
      "outputs": []
    },
    {
      "cell_type": "code",
      "source": [
        "# Creating train-test split\n",
        "lags = 3\n",
        "#colnames_dat = df.columns\n",
        "dat = df.drop('Date', axis=1)\n",
        "hor = 53\n",
        "split_point = len(dat) - hor\n",
        "# Split into train, validation, and test sets\n",
        "tr_dat, ts_dat = dat[:split_point], dat[split_point:]\n",
        "fore_hor = len(ts_dat)"
      ],
      "metadata": {
        "id": "pIwJcF_XASyh"
      },
      "execution_count": null,
      "outputs": []
    },
    {
      "cell_type": "code",
      "source": [
        "# Convert to Darts TimeSeries format\n",
        "train_series = TimeSeries.from_dataframe(tr_dat)\n",
        "test_series = TimeSeries.from_dataframe(ts_dat)"
      ],
      "metadata": {
        "id": "1cT53hvnA5iD"
      },
      "execution_count": null,
      "outputs": []
    },
    {
      "cell_type": "code",
      "source": [
        "# Create a folder by Equation name\n",
        "folder_name = 'One_Step_Ahead_' + str(lags)\n",
        "if not os.path.exists(folder_name):\n",
        "    os.makedirs(folder_name)\n",
        "    print(f\"Folder '{folder_name}' created successfully.\")\n",
        "else:\n",
        "    print(f\"Folder '{folder_name}' already exists.\")"
      ],
      "metadata": {
        "colab": {
          "base_uri": "https://localhost:8080/"
        },
        "id": "BQ3EGSZmBCZp",
        "outputId": "81c9cdcf-2064-4323-f4c6-0b0d4631b8cf"
      },
      "execution_count": null,
      "outputs": [
        {
          "output_type": "stream",
          "name": "stdout",
          "text": [
            "Folder 'One_Step_Ahead_3' created successfully.\n"
          ]
        }
      ]
    },
    {
      "cell_type": "code",
      "source": [
        "from darts.metrics import metrics\n",
        "smape_metric = {}\n",
        "mase_metric = {}\n",
        "mae_metric = {}\n",
        "rmse_metric = {}\n",
        "marre_metric = {}\n",
        "model_train_pred_time = {}"
      ],
      "metadata": {
        "id": "OyRdgjDoz_T6"
      },
      "execution_count": null,
      "outputs": []
    },
    {
      "cell_type": "code",
      "source": [],
      "metadata": {
        "id": "j3VZL73pjrmw"
      },
      "execution_count": null,
      "outputs": []
    },
    {
      "cell_type": "markdown",
      "source": [
        "## DLinearX"
      ],
      "metadata": {
        "id": "WkhMV1KsPLub"
      }
    },
    {
      "cell_type": "code",
      "source": [
        "# Define the DLinearModel Model\n",
        "model_name = 'DLinearX'\n",
        "model = darts.models.forecasting.dlinear.DLinearModel(input_chunk_length = lags, output_chunk_length = 1, random_state=42)\n",
        "# Fit the model\n",
        "start_time = time.time()\n",
        "model.fit(train_series)\n",
        "# Perform recursive forecasting for fore_hor steps\n",
        "forecast = []\n",
        "forecast_df = pd.DataFrame()\n",
        "current_input = train_series[-lags:]  # Start with the last lags points\n",
        "for i in range(fore_hor):\n",
        "  pred = model.predict(n=1, series=current_input)\n",
        "  forecast.append(pred)\n",
        "  forecast_df = pd.concat([forecast_df, pred.to_dataframe()], ignore_index=True)\n",
        "  current_input = current_input[1:]\n",
        "  current_input = TimeSeries.from_dataframe(pd.concat([TimeSeries.to_dataframe(current_input), ts_dat.iloc[[i]]], ignore_index=True))\n",
        "end_time = time.time()\n",
        "smape_metric[model_name] = metrics.smape(TimeSeries.from_values(test_series.values()[:, 0]), TimeSeries.from_values(forecast_df['Precipitation'].values))\n",
        "#mase_metric[model_name] = metrics.mase(TimeSeries.from_values(test_series.values()[:, 0]), TimeSeries.from_values(forecast_df['Precipitation'].values))\n",
        "mae_metric[model_name] = metrics.mae(TimeSeries.from_values(test_series.values()[:, 0]), TimeSeries.from_values(forecast_df['Precipitation'].values))\n",
        "rmse_metric[model_name] = metrics.rmse(TimeSeries.from_values(test_series.values()[:, 0]), TimeSeries.from_values(forecast_df['Precipitation'].values))\n",
        "marre_metric[model_name] = metrics.marre(TimeSeries.from_values(test_series.values()[:, 0]), TimeSeries.from_values(forecast_df['Precipitation'].values))\n",
        "file_name = model_name + '.xlsx'\n",
        "forecast_file_path = os.path.join(folder_name, file_name)\n",
        "forecast_df.to_excel(forecast_file_path, index=False)\n",
        "print(f\"Forecast saved to {forecast_file_path}\")"
      ],
      "metadata": {
        "id": "1kcDhG0WPLuc"
      },
      "execution_count": null,
      "outputs": []
    },
    {
      "cell_type": "markdown",
      "source": [
        "## NLinearX"
      ],
      "metadata": {
        "id": "o10-sAvHPL1k"
      }
    },
    {
      "cell_type": "code",
      "source": [
        "# Define the NLinearModel Model\n",
        "model_name = 'NLinearX'\n",
        "model = darts.models.forecasting.nlinear.NLinearModel(input_chunk_length = lags, output_chunk_length = 1, random_state=42)\n",
        "# Fit the model\n",
        "start_time = time.time()\n",
        "model.fit(train_series)\n",
        "# Perform recursive forecasting for fore_hor steps\n",
        "forecast = []\n",
        "forecast_df = pd.DataFrame()\n",
        "current_input = train_series[-lags:]  # Start with the last lags points\n",
        "for i in range(fore_hor):\n",
        "  pred = model.predict(n=1, series=current_input)\n",
        "  forecast.append(pred)\n",
        "  forecast_df = pd.concat([forecast_df, pred.to_dataframe()], ignore_index=True)\n",
        "  current_input = current_input[1:]\n",
        "  current_input = TimeSeries.from_dataframe(pd.concat([TimeSeries.to_dataframe(current_input), ts_dat.iloc[[i]]], ignore_index=True))\n",
        "end_time = time.time()\n",
        "smape_metric[model_name] = metrics.smape(TimeSeries.from_values(test_series.values()[:, 0]), TimeSeries.from_values(forecast_df['Precipitation'].values))\n",
        "#mase_metric[model_name] = metrics.mase(TimeSeries.from_values(test_series.values()[:, 0]), TimeSeries.from_values(forecast_df['Precipitation'].values))\n",
        "mae_metric[model_name] = metrics.mae(TimeSeries.from_values(test_series.values()[:, 0]), TimeSeries.from_values(forecast_df['Precipitation'].values))\n",
        "rmse_metric[model_name] = metrics.rmse(TimeSeries.from_values(test_series.values()[:, 0]), TimeSeries.from_values(forecast_df['Precipitation'].values))\n",
        "marre_metric[model_name] = metrics.marre(TimeSeries.from_values(test_series.values()[:, 0]), TimeSeries.from_values(forecast_df['Precipitation'].values))\n",
        "file_name = model_name + '.xlsx'\n",
        "forecast_file_path = os.path.join(folder_name, file_name)\n",
        "forecast_df.to_excel(forecast_file_path, index=False)\n",
        "print(f\"Forecast saved to {forecast_file_path}\")"
      ],
      "metadata": {
        "id": "HAmWyC-3PL1k"
      },
      "execution_count": null,
      "outputs": []
    },
    {
      "cell_type": "code",
      "source": [],
      "metadata": {
        "id": "_-P56nDJjxT1"
      },
      "execution_count": null,
      "outputs": []
    },
    {
      "cell_type": "markdown",
      "source": [
        "## RandomForestX"
      ],
      "metadata": {
        "id": "-NN2BpYcQtng"
      }
    },
    {
      "cell_type": "code",
      "source": [
        "# Define the RandomForest Model\n",
        "model_name = 'RandomForestX'\n",
        "model = darts.models.forecasting.random_forest.RandomForest(lags = lags, output_chunk_length = 1, random_state=42)\n",
        "# Fit the model\n",
        "start_time = time.time()\n",
        "model.fit(train_series)\n",
        "# Perform recursive forecasting for fore_hor steps\n",
        "forecast = []\n",
        "forecast_df = pd.DataFrame()\n",
        "current_input = train_series[-lags:]  # Start with the last lags points\n",
        "for i in range(fore_hor):\n",
        "  pred = model.predict(n=1, series=current_input)\n",
        "  forecast.append(pred)\n",
        "  forecast_df = pd.concat([forecast_df, pred.to_dataframe()], ignore_index=True)\n",
        "  current_input = current_input[1:]\n",
        "  current_input = TimeSeries.from_dataframe(pd.concat([TimeSeries.to_dataframe(current_input), ts_dat.iloc[[i]]], ignore_index=True))\n",
        "end_time = time.time()\n",
        "smape_metric[model_name] = metrics.smape(TimeSeries.from_values(test_series.values()[:, 0]), TimeSeries.from_values(forecast_df['Precipitation'].values))\n",
        "#mase_metric[model_name] = metrics.mase(TimeSeries.from_values(test_series.values()[:, 0]), TimeSeries.from_values(forecast_df['Precipitation'].values))\n",
        "mae_metric[model_name] = metrics.mae(TimeSeries.from_values(test_series.values()[:, 0]), TimeSeries.from_values(forecast_df['Precipitation'].values))\n",
        "rmse_metric[model_name] = metrics.rmse(TimeSeries.from_values(test_series.values()[:, 0]), TimeSeries.from_values(forecast_df['Precipitation'].values))\n",
        "marre_metric[model_name] = metrics.marre(TimeSeries.from_values(test_series.values()[:, 0]), TimeSeries.from_values(forecast_df['Precipitation'].values))\n",
        "file_name = model_name + '.xlsx'\n",
        "forecast_file_path = os.path.join(folder_name, file_name)\n",
        "forecast_df.to_excel(forecast_file_path, index=False)\n",
        "print(f\"Forecast saved to {forecast_file_path}\")"
      ],
      "metadata": {
        "id": "2L7PJu5nQtng"
      },
      "execution_count": null,
      "outputs": []
    },
    {
      "cell_type": "markdown",
      "source": [
        "## LSTMX"
      ],
      "metadata": {
        "id": "B2jZldnsM6hb"
      }
    },
    {
      "cell_type": "code",
      "source": [
        "# Define the LSTM Model\n",
        "model_name = 'LSTMX'\n",
        "model = darts.models.forecasting.rnn_model.RNNModel(input_chunk_length = lags,\n",
        "                                                    model='LSTM', random_state=42, training_length= lags+1)\n",
        "# Fit the model\n",
        "start_time = time.time()\n",
        "model.fit(train_series)\n",
        "# Perform recursive forecasting for fore_hor steps\n",
        "forecast = []\n",
        "forecast_df = pd.DataFrame()\n",
        "current_input = train_series[-lags:]  # Start with the last lags points\n",
        "for i in range(fore_hor):\n",
        "  pred = model.predict(n=1, series=current_input)\n",
        "  forecast.append(pred)\n",
        "  forecast_df = pd.concat([forecast_df, pred.to_dataframe()], ignore_index=True)\n",
        "  current_input = current_input[1:]\n",
        "  current_input = TimeSeries.from_dataframe(pd.concat([TimeSeries.to_dataframe(current_input), ts_dat.iloc[[i]]], ignore_index=True))\n",
        "end_time = time.time()\n",
        "smape_metric[model_name] = metrics.smape(TimeSeries.from_values(test_series.values()[:, 0]), TimeSeries.from_values(forecast_df['Precipitation'].values))\n",
        "#mase_metric[model_name] = metrics.mase(TimeSeries.from_values(test_series.values()[:, 0]), TimeSeries.from_values(forecast_df['Precipitation'].values))\n",
        "mae_metric[model_name] = metrics.mae(TimeSeries.from_values(test_series.values()[:, 0]), TimeSeries.from_values(forecast_df['Precipitation'].values))\n",
        "rmse_metric[model_name] = metrics.rmse(TimeSeries.from_values(test_series.values()[:, 0]), TimeSeries.from_values(forecast_df['Precipitation'].values))\n",
        "marre_metric[model_name] = metrics.marre(TimeSeries.from_values(test_series.values()[:, 0]), TimeSeries.from_values(forecast_df['Precipitation'].values))\n",
        "file_name = model_name + '.xlsx'\n",
        "forecast_file_path = os.path.join(folder_name, file_name)\n",
        "forecast_df.to_excel(forecast_file_path, index=False)\n",
        "print(f\"Forecast saved to {forecast_file_path}\")"
      ],
      "metadata": {
        "id": "QNh-sG6mM6hb"
      },
      "execution_count": null,
      "outputs": []
    },
    {
      "cell_type": "markdown",
      "source": [
        "## NBeatsX"
      ],
      "metadata": {
        "id": "LiFDE9BKMOzV"
      }
    },
    {
      "cell_type": "code",
      "source": [
        "# Final\n",
        "model_name = 'NBEATSX'\n",
        "model = darts.models.forecasting.nbeats.NBEATSModel(input_chunk_length=lags, output_chunk_length=1, random_state=42)\n",
        "start_time = time.time()\n",
        "# Fit the model\n",
        "model.fit(train_series)\n",
        "# Perform recursive forecasting for fore_hor steps\n",
        "forecast = []\n",
        "forecast_df = pd.DataFrame()\n",
        "current_input = train_series[-lags:]  # Start with the last lags points\n",
        "for i in range(fore_hor):\n",
        "  pred = model.predict(n=1, series=current_input)\n",
        "  forecast.append(pred)\n",
        "  forecast_df = pd.concat([forecast_df, pred.to_dataframe()], ignore_index=True)\n",
        "  current_input = current_input[1:]\n",
        "  current_input = TimeSeries.from_dataframe(pd.concat([TimeSeries.to_dataframe(current_input), ts_dat.iloc[[i]]], ignore_index=True))\n",
        "end_time = time.time()\n",
        "smape_metric[model_name] = metrics.smape(TimeSeries.from_values(test_series.values()[:, 0]), TimeSeries.from_values(forecast_df['Precipitation'].values))\n",
        "#mase_metric[model_name] = metrics.mase(TimeSeries.from_values(test_series.values()[:, 0]), TimeSeries.from_values(forecast_df['Precipitation'].values))\n",
        "mae_metric[model_name] = metrics.mae(TimeSeries.from_values(test_series.values()[:, 0]), TimeSeries.from_values(forecast_df['Precipitation'].values))\n",
        "rmse_metric[model_name] = metrics.rmse(TimeSeries.from_values(test_series.values()[:, 0]), TimeSeries.from_values(forecast_df['Precipitation'].values))\n",
        "marre_metric[model_name] = metrics.marre(TimeSeries.from_values(test_series.values()[:, 0]), TimeSeries.from_values(forecast_df['Precipitation'].values))\n",
        "file_name = model_name + '.xlsx'\n",
        "forecast_file_path = os.path.join(folder_name, file_name)\n",
        "forecast_df.to_excel(forecast_file_path, index=False)\n",
        "print(f\"Forecast saved to {forecast_file_path}\")"
      ],
      "metadata": {
        "id": "MnpcxaY_7o5i"
      },
      "execution_count": null,
      "outputs": []
    },
    {
      "cell_type": "markdown",
      "source": [
        "## NHitsX"
      ],
      "metadata": {
        "id": "EALfijdnOJja"
      }
    },
    {
      "cell_type": "code",
      "source": [
        "# Define the NHiTSModel Model\n",
        "model_name = 'NHiTSX'\n",
        "model = darts.models.forecasting.nhits.NHiTSModel(input_chunk_length = lags, output_chunk_length = 1, random_state=42)\n",
        "# Fit the model\n",
        "start_time = time.time()\n",
        "model.fit(train_series)\n",
        "# Perform recursive forecasting for fore_hor steps\n",
        "forecast = []\n",
        "forecast_df = pd.DataFrame()\n",
        "current_input = train_series[-lags:]  # Start with the last lags points\n",
        "for i in range(fore_hor):\n",
        "  pred = model.predict(n=1, series=current_input)\n",
        "  forecast.append(pred)\n",
        "  forecast_df = pd.concat([forecast_df, pred.to_dataframe()], ignore_index=True)\n",
        "  current_input = current_input[1:]\n",
        "  current_input = TimeSeries.from_dataframe(pd.concat([TimeSeries.to_dataframe(current_input), ts_dat.iloc[[i]]], ignore_index=True))\n",
        "end_time = time.time()\n",
        "smape_metric[model_name] = metrics.smape(TimeSeries.from_values(test_series.values()[:, 0]), TimeSeries.from_values(forecast_df['Precipitation'].values))\n",
        "#mase_metric[model_name] = metrics.mase(TimeSeries.from_values(test_series.values()[:, 0]), TimeSeries.from_values(forecast_df['Precipitation'].values))\n",
        "mae_metric[model_name] = metrics.mae(TimeSeries.from_values(test_series.values()[:, 0]), TimeSeries.from_values(forecast_df['Precipitation'].values))\n",
        "rmse_metric[model_name] = metrics.rmse(TimeSeries.from_values(test_series.values()[:, 0]), TimeSeries.from_values(forecast_df['Precipitation'].values))\n",
        "marre_metric[model_name] = metrics.marre(TimeSeries.from_values(test_series.values()[:, 0]), TimeSeries.from_values(forecast_df['Precipitation'].values))\n",
        "file_name = model_name + '.xlsx'\n",
        "forecast_file_path = os.path.join(folder_name, file_name)\n",
        "forecast_df.to_excel(forecast_file_path, index=False)\n",
        "print(f\"Forecast saved to {forecast_file_path}\")"
      ],
      "metadata": {
        "id": "jC5DahpSOJjb"
      },
      "execution_count": null,
      "outputs": []
    },
    {
      "cell_type": "code",
      "source": [],
      "metadata": {
        "id": "DVgA0Cxg8yBc"
      },
      "execution_count": null,
      "outputs": []
    },
    {
      "cell_type": "markdown",
      "source": [
        "## TransformerX"
      ],
      "metadata": {
        "id": "C9KsuzDyO0Mo"
      }
    },
    {
      "cell_type": "code",
      "source": [
        "# Define the TransformerModel Model\n",
        "model_name = 'TransformerX'\n",
        "model = darts.models.forecasting.transformer_model.TransformerModel(input_chunk_length = lags, output_chunk_length = 1, random_state=42)\n",
        "# Fit the model\n",
        "start_time = time.time()\n",
        "model.fit(train_series)\n",
        "# Perform recursive forecasting for fore_hor steps\n",
        "forecast = []\n",
        "forecast_df = pd.DataFrame()\n",
        "current_input = train_series[-lags:]  # Start with the last lags points\n",
        "for i in range(fore_hor):\n",
        "  pred = model.predict(n=1, series=current_input)\n",
        "  forecast.append(pred)\n",
        "  forecast_df = pd.concat([forecast_df, pred.to_dataframe()], ignore_index=True)\n",
        "  current_input = current_input[1:]\n",
        "  current_input = TimeSeries.from_dataframe(pd.concat([TimeSeries.to_dataframe(current_input), ts_dat.iloc[[i]]], ignore_index=True))\n",
        "end_time = time.time()\n",
        "smape_metric[model_name] = metrics.smape(TimeSeries.from_values(test_series.values()[:, 0]), TimeSeries.from_values(forecast_df['Precipitation'].values))\n",
        "#mase_metric[model_name] = metrics.mase(TimeSeries.from_values(test_series.values()[:, 0]), TimeSeries.from_values(forecast_df['Precipitation'].values))\n",
        "mae_metric[model_name] = metrics.mae(TimeSeries.from_values(test_series.values()[:, 0]), TimeSeries.from_values(forecast_df['Precipitation'].values))\n",
        "rmse_metric[model_name] = metrics.rmse(TimeSeries.from_values(test_series.values()[:, 0]), TimeSeries.from_values(forecast_df['Precipitation'].values))\n",
        "marre_metric[model_name] = metrics.marre(TimeSeries.from_values(test_series.values()[:, 0]), TimeSeries.from_values(forecast_df['Precipitation'].values))\n",
        "file_name = model_name + '.xlsx'\n",
        "forecast_file_path = os.path.join(folder_name, file_name)\n",
        "forecast_df.to_excel(forecast_file_path, index=False)\n",
        "print(f\"Forecast saved to {forecast_file_path}\")"
      ],
      "metadata": {
        "id": "UWvsdP6mO0Mo"
      },
      "execution_count": null,
      "outputs": []
    },
    {
      "cell_type": "markdown",
      "source": [
        "## TiDEX"
      ],
      "metadata": {
        "id": "d-r95jdFPL7Y"
      }
    },
    {
      "cell_type": "code",
      "source": [
        "# Define the TiDEModel Model\n",
        "model_name = 'TiDEX'\n",
        "model = darts.models.forecasting.tide_model.TiDEModel(input_chunk_length = lags, output_chunk_length = 1, random_state=42)\n",
        "# Fit the model\n",
        "start_time = time.time()\n",
        "model.fit(train_series)\n",
        "# Perform recursive forecasting for fore_hor steps\n",
        "forecast = []\n",
        "forecast_df = pd.DataFrame()\n",
        "current_input = train_series[-lags:]  # Start with the last lags points\n",
        "for i in range(fore_hor):\n",
        "  pred = model.predict(n=1, series=current_input)\n",
        "  forecast.append(pred)\n",
        "  forecast_df = pd.concat([forecast_df, pred.to_dataframe()], ignore_index=True)\n",
        "  current_input = current_input[1:]\n",
        "  current_input = TimeSeries.from_dataframe(pd.concat([TimeSeries.to_dataframe(current_input), ts_dat.iloc[[i]]], ignore_index=True))\n",
        "end_time = time.time()\n",
        "smape_metric[model_name] = metrics.smape(TimeSeries.from_values(test_series.values()[:, 0]), TimeSeries.from_values(forecast_df['Precipitation'].values))\n",
        "#mase_metric[model_name] = metrics.mase(TimeSeries.from_values(test_series.values()[:, 0]), TimeSeries.from_values(forecast_df['Precipitation'].values))\n",
        "mae_metric[model_name] = metrics.mae(TimeSeries.from_values(test_series.values()[:, 0]), TimeSeries.from_values(forecast_df['Precipitation'].values))\n",
        "rmse_metric[model_name] = metrics.rmse(TimeSeries.from_values(test_series.values()[:, 0]), TimeSeries.from_values(forecast_df['Precipitation'].values))\n",
        "marre_metric[model_name] = metrics.marre(TimeSeries.from_values(test_series.values()[:, 0]), TimeSeries.from_values(forecast_df['Precipitation'].values))\n",
        "file_name = model_name + '.xlsx'\n",
        "forecast_file_path = os.path.join(folder_name, file_name)\n",
        "forecast_df.to_excel(forecast_file_path, index=False)\n",
        "print(f\"Forecast saved to {forecast_file_path}\")"
      ],
      "metadata": {
        "id": "ZLNulHYyPL7Y"
      },
      "execution_count": null,
      "outputs": []
    },
    {
      "cell_type": "markdown",
      "source": [
        "## XGBoostX"
      ],
      "metadata": {
        "id": "uxmpEA8CPL-0"
      }
    },
    {
      "cell_type": "code",
      "source": [
        "# Define the XGBModel Model\n",
        "model_name = 'XGBoostX'\n",
        "model = darts.models.forecasting.xgboost.XGBModel(lags = lags, output_chunk_length = 1, random_state=42)\n",
        "# Fit the model\n",
        "start_time = time.time()\n",
        "model.fit(train_series)\n",
        "# Perform recursive forecasting for fore_hor steps\n",
        "forecast = []\n",
        "forecast_df = pd.DataFrame()\n",
        "current_input = train_series[-lags:]  # Start with the last lags points\n",
        "for i in range(fore_hor):\n",
        "  pred = model.predict(n=1, series=current_input)\n",
        "  forecast.append(pred)\n",
        "  forecast_df = pd.concat([forecast_df, pred.to_dataframe()], ignore_index=True)\n",
        "  current_input = current_input[1:]\n",
        "  current_input = TimeSeries.from_dataframe(pd.concat([TimeSeries.to_dataframe(current_input), ts_dat.iloc[[i]]], ignore_index=True))\n",
        "end_time = time.time()\n",
        "smape_metric[model_name] = metrics.smape(TimeSeries.from_values(test_series.values()[:, 0]), TimeSeries.from_values(forecast_df['Precipitation'].values))\n",
        "#mase_metric[model_name] = metrics.mase(TimeSeries.from_values(test_series.values()[:, 0]), TimeSeries.from_values(forecast_df['Precipitation'].values))\n",
        "mae_metric[model_name] = metrics.mae(TimeSeries.from_values(test_series.values()[:, 0]), TimeSeries.from_values(forecast_df['Precipitation'].values))\n",
        "rmse_metric[model_name] = metrics.rmse(TimeSeries.from_values(test_series.values()[:, 0]), TimeSeries.from_values(forecast_df['Precipitation'].values))\n",
        "marre_metric[model_name] = metrics.marre(TimeSeries.from_values(test_series.values()[:, 0]), TimeSeries.from_values(forecast_df['Precipitation'].values))\n",
        "file_name = model_name + '.xlsx'\n",
        "forecast_file_path = os.path.join(folder_name, file_name)\n",
        "forecast_df.to_excel(forecast_file_path, index=False)\n",
        "print(f\"Forecast saved to {forecast_file_path}\")"
      ],
      "metadata": {
        "id": "G4TH_5eKPL-1"
      },
      "execution_count": null,
      "outputs": []
    },
    {
      "cell_type": "markdown",
      "source": [
        "## Metric Compile"
      ],
      "metadata": {
        "id": "tc_HnooyjkkD"
      }
    },
    {
      "cell_type": "code",
      "source": [
        "smape_metrics_df = pd.DataFrame.from_dict(smape_metric, orient='index', columns=['SMAPE'])\\\n",
        "rmse_metrics_df = pd.DataFrame.from_dict(rmse_metric, orient='index', columns=['RMSE'])\n",
        "mae_metrics_df = pd.DataFrame.from_dict(mae_metric, orient='index', columns=['MAE'])\n",
        "marre_metrics_df = pd.DataFrame.from_dict(marre_metric, orient='index', columns=['MARRE'])\n",
        "execution_time_df = pd.DataFrame.from_dict(model_train_pred_time, orient='index', columns=['Time'])"
      ],
      "metadata": {
        "id": "oRTT4qhaBjcD"
      },
      "execution_count": null,
      "outputs": []
    },
    {
      "cell_type": "code",
      "source": [
        "merged_df = pd.concat([smape_metrics_df, rmse_metrics_df, mae_metrics_df, marre_metrics_df, execution_time_df], axis=1)\n",
        "merged_df"
      ],
      "metadata": {
        "id": "F6NJ4XGVIVcu"
      },
      "execution_count": null,
      "outputs": []
    }
  ]
}